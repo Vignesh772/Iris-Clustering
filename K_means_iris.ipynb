{
  "nbformat": 4,
  "nbformat_minor": 0,
  "metadata": {
    "colab": {
      "name": "K_means_iris.ipynb",
      "provenance": [],
      "collapsed_sections": []
    },
    "kernelspec": {
      "name": "python3",
      "display_name": "Python 3"
    }
  },
  "cells": [
    {
      "cell_type": "code",
      "metadata": {
        "id": "PkZA31XeQJCW",
        "colab_type": "code",
        "colab": {}
      },
      "source": [
        "import pandas as pd\n",
        "import matplotlib.pyplot as plt\n",
        "import numpy as np"
      ],
      "execution_count": 0,
      "outputs": []
    },
    {
      "cell_type": "code",
      "metadata": {
        "id": "AzfSSCK_Sjjf",
        "colab_type": "code",
        "colab": {}
      },
      "source": [
        "# Import PyDrive and associated libraries.\n",
        "# This only needs to be done once per notebook.\n",
        "from pydrive.auth import GoogleAuth\n",
        "from pydrive.drive import GoogleDrive\n",
        "from google.colab import auth\n",
        "from oauth2client.client import GoogleCredentials\n",
        "\n",
        "# Authenticate and create the PyDrive client.\n",
        "# This only needs to be done once per notebook.\n",
        "auth.authenticate_user()\n",
        "gauth = GoogleAuth()\n",
        "gauth.credentials = GoogleCredentials.get_application_default()\n",
        "drive = GoogleDrive(gauth)\n",
        "\n",
        "# Download a file based on its file ID.\n",
        "#\n",
        "# A file ID looks like: laggVyWshwcyP6kEI-y_W3P8D26sz\n",
        "file_id = '1Y2I6YLtWUXYav_v00cEQkR88dfFKoESj'\n",
        "downloaded = drive.CreateFile({'id': file_id})\n",
        "print('Downloaded content \"{}\"'.format(downloaded.GetContentString()))"
      ],
      "execution_count": 0,
      "outputs": []
    },
    {
      "cell_type": "code",
      "metadata": {
        "id": "O7YZJ477TiTU",
        "colab_type": "code",
        "colab": {}
      },
      "source": [
        "downloaded.GetContentFile('IRIS.csv')  \n",
        "df = pd.read_csv('IRIS.csv')"
      ],
      "execution_count": 0,
      "outputs": []
    },
    {
      "cell_type": "code",
      "metadata": {
        "id": "Gs-5TL_fTyd_",
        "colab_type": "code",
        "colab": {}
      },
      "source": [
        "df.head()"
      ],
      "execution_count": 0,
      "outputs": []
    },
    {
      "cell_type": "code",
      "metadata": {
        "id": "zu2Hcwv_T4CR",
        "colab_type": "code",
        "colab": {}
      },
      "source": [
        "df.info()"
      ],
      "execution_count": 0,
      "outputs": []
    },
    {
      "cell_type": "code",
      "metadata": {
        "id": "PH20ENskUE0v",
        "colab_type": "code",
        "colab": {}
      },
      "source": [
        "df['species'].unique()"
      ],
      "execution_count": 0,
      "outputs": []
    },
    {
      "cell_type": "code",
      "metadata": {
        "id": "-Oy17p9pUNsB",
        "colab_type": "code",
        "colab": {}
      },
      "source": [
        "df.describe()"
      ],
      "execution_count": 0,
      "outputs": []
    },
    {
      "cell_type": "code",
      "metadata": {
        "id": "rgRMFGnIURTB",
        "colab_type": "code",
        "colab": {}
      },
      "source": [
        "X=df.drop(['species'],axis=1)\n",
        "X.shape"
      ],
      "execution_count": 0,
      "outputs": []
    },
    {
      "cell_type": "code",
      "metadata": {
        "id": "T1B-OMHOUf9b",
        "colab_type": "code",
        "colab": {}
      },
      "source": [
        "mean=X.mean(axis=0)"
      ],
      "execution_count": 0,
      "outputs": []
    },
    {
      "cell_type": "code",
      "metadata": {
        "id": "Fo83mNylWK9k",
        "colab_type": "code",
        "colab": {}
      },
      "source": [
        "mean"
      ],
      "execution_count": 0,
      "outputs": []
    },
    {
      "cell_type": "code",
      "metadata": {
        "id": "c0psPZvQWM6j",
        "colab_type": "code",
        "colab": {}
      },
      "source": [
        "sd=X.std(axis=0)"
      ],
      "execution_count": 0,
      "outputs": []
    },
    {
      "cell_type": "code",
      "metadata": {
        "id": "gkdqY5GwWx2h",
        "colab_type": "code",
        "colab": {}
      },
      "source": [
        "sd"
      ],
      "execution_count": 0,
      "outputs": []
    },
    {
      "cell_type": "code",
      "metadata": {
        "id": "G8tHSa2nW35b",
        "colab_type": "code",
        "colab": {}
      },
      "source": [
        "X=(X-mean)/sd"
      ],
      "execution_count": 0,
      "outputs": []
    },
    {
      "cell_type": "code",
      "metadata": {
        "id": "4P4lOu6GW_FG",
        "colab_type": "code",
        "colab": {}
      },
      "source": [
        "X"
      ],
      "execution_count": 0,
      "outputs": []
    },
    {
      "cell_type": "code",
      "metadata": {
        "id": "v4prjhfQXC8y",
        "colab_type": "code",
        "colab": {}
      },
      "source": [
        "u=np.array(X.sample(n=3))\n",
        "m=150"
      ],
      "execution_count": 0,
      "outputs": []
    },
    {
      "cell_type": "code",
      "metadata": {
        "id": "PY290YyqYXfT",
        "colab_type": "code",
        "colab": {}
      },
      "source": [
        "u.shape\n",
        "c=0\n",
        "idx=np.zeros((m,1),dtype=int)\n"
      ],
      "execution_count": 0,
      "outputs": []
    },
    {
      "cell_type": "code",
      "metadata": {
        "id": "ftWNbJR8ml7R",
        "colab_type": "code",
        "colab": {}
      },
      "source": [
        "def closest():\n",
        "  for i in range(0,m):\n",
        "    a=np.zeros((3,1) , dtype=float)\n",
        "    for j in range(0,3):\n",
        "      a[j]=np.linalg.norm(X.iloc[i,:].values-u[j,:])   \n",
        "    idx[i]=np.where(a==min(a))[0]\n",
        "    \n",
        "def centroid():\n",
        "  for i in range(0,3):\n",
        "    k=0\n",
        "    for j in range(0,m):\n",
        "      if(idx[j]==i):\n",
        "        u[i,:]=u[i,:] + X.iloc[j,:].values\n",
        "        k=k+1\n",
        "    u[i,:]=u[i,:]/k\n",
        "\n",
        "for i in range(0,5):\n",
        "  closest()\n",
        "  centroid()    \n",
        "    \n",
        "    "
      ],
      "execution_count": 0,
      "outputs": []
    },
    {
      "cell_type": "code",
      "metadata": {
        "id": "YmRcHQr9uGfa",
        "colab_type": "code",
        "colab": {}
      },
      "source": [
        "label=list()\n",
        "for i in range(0,m):\n",
        "  if(idx[i]==0):\n",
        "    label.append('red')\n",
        "  elif(idx[i]==1):\n",
        "    label.append('blue')\n",
        "  elif(idx[i]==2):\n",
        "    label.append('green')\n",
        "    \n",
        "  \n",
        "x=X.iloc[:,0].values\n",
        "y=X.iloc[:,3].values\n",
        "plt.scatter(x,y,c=label)\n",
        "plt.scatter(u[:,0],u[:,3],c='yellow')"
      ],
      "execution_count": 0,
      "outputs": []
    },
    {
      "cell_type": "code",
      "metadata": {
        "id": "DFGVAsg7CX-M",
        "colab_type": "code",
        "colab": {}
      },
      "source": [
        "#accuracy\n",
        "y=df['species']\n",
        "df=pd.DataFrame({'label':idx[:,0],'species':y})\n",
        "ct= pd.crosstab(df['label'],df['species'])\n",
        "print(ct)"
      ],
      "execution_count": 0,
      "outputs": []
    },
    {
      "cell_type": "code",
      "metadata": {
        "id": "bIOl0OyqZGeh",
        "colab_type": "code",
        "colab": {}
      },
      "source": [
        "\n"
      ],
      "execution_count": 0,
      "outputs": []
    },
    {
      "cell_type": "code",
      "metadata": {
        "id": "8CZN9AsFZHjS",
        "colab_type": "code",
        "colab": {}
      },
      "source": [
        ""
      ],
      "execution_count": 0,
      "outputs": []
    }
  ]
}